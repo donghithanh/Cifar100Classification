{
  "nbformat": 4,
  "nbformat_minor": 0,
  "metadata": {
    "colab": {
      "name": "Cifar100_CNN.ipynb",
      "provenance": [],
      "authorship_tag": "ABX9TyM2YGBag3kYLAYxQpuVkfTp",
      "include_colab_link": true
    },
    "kernelspec": {
      "name": "python3",
      "display_name": "Python 3"
    },
    "language_info": {
      "name": "python"
    },
    "accelerator": "GPU",
    "widgets": {
      "application/vnd.jupyter.widget-state+json": {
        "fb1e61a9c582416386e6f3234f85658d": {
          "model_module": "@jupyter-widgets/controls",
          "model_name": "HBoxModel",
          "model_module_version": "1.5.0",
          "state": {
            "_view_name": "HBoxView",
            "_dom_classes": [],
            "_model_name": "HBoxModel",
            "_view_module": "@jupyter-widgets/controls",
            "_model_module_version": "1.5.0",
            "_view_count": null,
            "_view_module_version": "1.5.0",
            "box_style": "",
            "layout": "IPY_MODEL_6a306f18e23d4d88b12ca133cdbf68f9",
            "_model_module": "@jupyter-widgets/controls",
            "children": [
              "IPY_MODEL_0d02cfce505c417f925b672ccb151397",
              "IPY_MODEL_a964f0652b564cb6a1390f0c04dd2c54",
              "IPY_MODEL_19fd8930820f48a093a00e032ce79977"
            ]
          }
        },
        "6a306f18e23d4d88b12ca133cdbf68f9": {
          "model_module": "@jupyter-widgets/base",
          "model_name": "LayoutModel",
          "model_module_version": "1.2.0",
          "state": {
            "_view_name": "LayoutView",
            "grid_template_rows": null,
            "right": null,
            "justify_content": null,
            "_view_module": "@jupyter-widgets/base",
            "overflow": null,
            "_model_module_version": "1.2.0",
            "_view_count": null,
            "flex_flow": null,
            "width": null,
            "min_width": null,
            "border": null,
            "align_items": null,
            "bottom": null,
            "_model_module": "@jupyter-widgets/base",
            "top": null,
            "grid_column": null,
            "overflow_y": null,
            "overflow_x": null,
            "grid_auto_flow": null,
            "grid_area": null,
            "grid_template_columns": null,
            "flex": null,
            "_model_name": "LayoutModel",
            "justify_items": null,
            "grid_row": null,
            "max_height": null,
            "align_content": null,
            "visibility": null,
            "align_self": null,
            "height": null,
            "min_height": null,
            "padding": null,
            "grid_auto_rows": null,
            "grid_gap": null,
            "max_width": null,
            "order": null,
            "_view_module_version": "1.2.0",
            "grid_template_areas": null,
            "object_position": null,
            "object_fit": null,
            "grid_auto_columns": null,
            "margin": null,
            "display": null,
            "left": null
          }
        },
        "0d02cfce505c417f925b672ccb151397": {
          "model_module": "@jupyter-widgets/controls",
          "model_name": "HTMLModel",
          "model_module_version": "1.5.0",
          "state": {
            "_view_name": "HTMLView",
            "style": "IPY_MODEL_69caedb02583472f87bea8f21aff3abf",
            "_dom_classes": [],
            "description": "",
            "_model_name": "HTMLModel",
            "placeholder": "​",
            "_view_module": "@jupyter-widgets/controls",
            "_model_module_version": "1.5.0",
            "value": "",
            "_view_count": null,
            "_view_module_version": "1.5.0",
            "description_tooltip": null,
            "_model_module": "@jupyter-widgets/controls",
            "layout": "IPY_MODEL_0edf010216cb44208caa467a4273c24e"
          }
        },
        "a964f0652b564cb6a1390f0c04dd2c54": {
          "model_module": "@jupyter-widgets/controls",
          "model_name": "FloatProgressModel",
          "model_module_version": "1.5.0",
          "state": {
            "_view_name": "ProgressView",
            "style": "IPY_MODEL_d2dcf24a593845b9a70947bffa11f90e",
            "_dom_classes": [],
            "description": "",
            "_model_name": "FloatProgressModel",
            "bar_style": "success",
            "max": 169001437,
            "_view_module": "@jupyter-widgets/controls",
            "_model_module_version": "1.5.0",
            "value": 169001437,
            "_view_count": null,
            "_view_module_version": "1.5.0",
            "orientation": "horizontal",
            "min": 0,
            "description_tooltip": null,
            "_model_module": "@jupyter-widgets/controls",
            "layout": "IPY_MODEL_5323b5950dae4a67a50440aded8d05fa"
          }
        },
        "19fd8930820f48a093a00e032ce79977": {
          "model_module": "@jupyter-widgets/controls",
          "model_name": "HTMLModel",
          "model_module_version": "1.5.0",
          "state": {
            "_view_name": "HTMLView",
            "style": "IPY_MODEL_180bdba13df34b4da71221e3c3563e65",
            "_dom_classes": [],
            "description": "",
            "_model_name": "HTMLModel",
            "placeholder": "​",
            "_view_module": "@jupyter-widgets/controls",
            "_model_module_version": "1.5.0",
            "value": " 169001984/? [00:03&lt;00:00, 53206192.50it/s]",
            "_view_count": null,
            "_view_module_version": "1.5.0",
            "description_tooltip": null,
            "_model_module": "@jupyter-widgets/controls",
            "layout": "IPY_MODEL_799fdf57e3784d9ba734dac7170de10f"
          }
        },
        "69caedb02583472f87bea8f21aff3abf": {
          "model_module": "@jupyter-widgets/controls",
          "model_name": "DescriptionStyleModel",
          "model_module_version": "1.5.0",
          "state": {
            "_view_name": "StyleView",
            "_model_name": "DescriptionStyleModel",
            "description_width": "",
            "_view_module": "@jupyter-widgets/base",
            "_model_module_version": "1.5.0",
            "_view_count": null,
            "_view_module_version": "1.2.0",
            "_model_module": "@jupyter-widgets/controls"
          }
        },
        "0edf010216cb44208caa467a4273c24e": {
          "model_module": "@jupyter-widgets/base",
          "model_name": "LayoutModel",
          "model_module_version": "1.2.0",
          "state": {
            "_view_name": "LayoutView",
            "grid_template_rows": null,
            "right": null,
            "justify_content": null,
            "_view_module": "@jupyter-widgets/base",
            "overflow": null,
            "_model_module_version": "1.2.0",
            "_view_count": null,
            "flex_flow": null,
            "width": null,
            "min_width": null,
            "border": null,
            "align_items": null,
            "bottom": null,
            "_model_module": "@jupyter-widgets/base",
            "top": null,
            "grid_column": null,
            "overflow_y": null,
            "overflow_x": null,
            "grid_auto_flow": null,
            "grid_area": null,
            "grid_template_columns": null,
            "flex": null,
            "_model_name": "LayoutModel",
            "justify_items": null,
            "grid_row": null,
            "max_height": null,
            "align_content": null,
            "visibility": null,
            "align_self": null,
            "height": null,
            "min_height": null,
            "padding": null,
            "grid_auto_rows": null,
            "grid_gap": null,
            "max_width": null,
            "order": null,
            "_view_module_version": "1.2.0",
            "grid_template_areas": null,
            "object_position": null,
            "object_fit": null,
            "grid_auto_columns": null,
            "margin": null,
            "display": null,
            "left": null
          }
        },
        "d2dcf24a593845b9a70947bffa11f90e": {
          "model_module": "@jupyter-widgets/controls",
          "model_name": "ProgressStyleModel",
          "model_module_version": "1.5.0",
          "state": {
            "_view_name": "StyleView",
            "_model_name": "ProgressStyleModel",
            "description_width": "",
            "_view_module": "@jupyter-widgets/base",
            "_model_module_version": "1.5.0",
            "_view_count": null,
            "_view_module_version": "1.2.0",
            "bar_color": null,
            "_model_module": "@jupyter-widgets/controls"
          }
        },
        "5323b5950dae4a67a50440aded8d05fa": {
          "model_module": "@jupyter-widgets/base",
          "model_name": "LayoutModel",
          "model_module_version": "1.2.0",
          "state": {
            "_view_name": "LayoutView",
            "grid_template_rows": null,
            "right": null,
            "justify_content": null,
            "_view_module": "@jupyter-widgets/base",
            "overflow": null,
            "_model_module_version": "1.2.0",
            "_view_count": null,
            "flex_flow": null,
            "width": null,
            "min_width": null,
            "border": null,
            "align_items": null,
            "bottom": null,
            "_model_module": "@jupyter-widgets/base",
            "top": null,
            "grid_column": null,
            "overflow_y": null,
            "overflow_x": null,
            "grid_auto_flow": null,
            "grid_area": null,
            "grid_template_columns": null,
            "flex": null,
            "_model_name": "LayoutModel",
            "justify_items": null,
            "grid_row": null,
            "max_height": null,
            "align_content": null,
            "visibility": null,
            "align_self": null,
            "height": null,
            "min_height": null,
            "padding": null,
            "grid_auto_rows": null,
            "grid_gap": null,
            "max_width": null,
            "order": null,
            "_view_module_version": "1.2.0",
            "grid_template_areas": null,
            "object_position": null,
            "object_fit": null,
            "grid_auto_columns": null,
            "margin": null,
            "display": null,
            "left": null
          }
        },
        "180bdba13df34b4da71221e3c3563e65": {
          "model_module": "@jupyter-widgets/controls",
          "model_name": "DescriptionStyleModel",
          "model_module_version": "1.5.0",
          "state": {
            "_view_name": "StyleView",
            "_model_name": "DescriptionStyleModel",
            "description_width": "",
            "_view_module": "@jupyter-widgets/base",
            "_model_module_version": "1.5.0",
            "_view_count": null,
            "_view_module_version": "1.2.0",
            "_model_module": "@jupyter-widgets/controls"
          }
        },
        "799fdf57e3784d9ba734dac7170de10f": {
          "model_module": "@jupyter-widgets/base",
          "model_name": "LayoutModel",
          "model_module_version": "1.2.0",
          "state": {
            "_view_name": "LayoutView",
            "grid_template_rows": null,
            "right": null,
            "justify_content": null,
            "_view_module": "@jupyter-widgets/base",
            "overflow": null,
            "_model_module_version": "1.2.0",
            "_view_count": null,
            "flex_flow": null,
            "width": null,
            "min_width": null,
            "border": null,
            "align_items": null,
            "bottom": null,
            "_model_module": "@jupyter-widgets/base",
            "top": null,
            "grid_column": null,
            "overflow_y": null,
            "overflow_x": null,
            "grid_auto_flow": null,
            "grid_area": null,
            "grid_template_columns": null,
            "flex": null,
            "_model_name": "LayoutModel",
            "justify_items": null,
            "grid_row": null,
            "max_height": null,
            "align_content": null,
            "visibility": null,
            "align_self": null,
            "height": null,
            "min_height": null,
            "padding": null,
            "grid_auto_rows": null,
            "grid_gap": null,
            "max_width": null,
            "order": null,
            "_view_module_version": "1.2.0",
            "grid_template_areas": null,
            "object_position": null,
            "object_fit": null,
            "grid_auto_columns": null,
            "margin": null,
            "display": null,
            "left": null
          }
        }
      }
    }
  },
  "cells": [
    {
      "cell_type": "markdown",
      "metadata": {
        "id": "view-in-github",
        "colab_type": "text"
      },
      "source": [
        "<a href=\"https://colab.research.google.com/github/donghithanh/Cifar100Classification/blob/main/Cifar100_CNN.ipynb\" target=\"_parent\"><img src=\"https://colab.research.google.com/assets/colab-badge.svg\" alt=\"Open In Colab\"/></a>"
      ]
    },
    {
      "cell_type": "code",
      "metadata": {
        "id": "_qhLwhMI2xlh"
      },
      "source": [
        "import numpy as np\n",
        "import torch\n",
        "import torch.nn as nn\n",
        "import torch.nn.functional as F\n",
        "import torch.optim as optim\n",
        "from torch.autograd import Variable\n",
        "import torchvision\n",
        "import torchvision.transforms as transforms"
      ],
      "execution_count": 1,
      "outputs": []
    },
    {
      "cell_type": "code",
      "metadata": {
        "colab": {
          "base_uri": "https://localhost:8080/",
          "height": 154,
          "referenced_widgets": [
            "fb1e61a9c582416386e6f3234f85658d",
            "6a306f18e23d4d88b12ca133cdbf68f9",
            "0d02cfce505c417f925b672ccb151397",
            "a964f0652b564cb6a1390f0c04dd2c54",
            "19fd8930820f48a093a00e032ce79977",
            "69caedb02583472f87bea8f21aff3abf",
            "0edf010216cb44208caa467a4273c24e",
            "d2dcf24a593845b9a70947bffa11f90e",
            "5323b5950dae4a67a50440aded8d05fa",
            "180bdba13df34b4da71221e3c3563e65",
            "799fdf57e3784d9ba734dac7170de10f"
          ]
        },
        "id": "O7J7ydZZ3kVr",
        "outputId": "afe499f7-e573-4a05-ad9b-db63e1b3acf4"
      },
      "source": [
        "transform = transforms.Compose([transforms.RandomCrop(32, padding=4),transforms.RandomHorizontalFlip(),transforms.ToTensor()])\n",
        "trainset = torchvision.datasets.CIFAR100(root='./data', train=True,download=True, transform=transform)\n",
        "trainloader = torch.utils.data.DataLoader(trainset, batch_size=128,shuffle=True, num_workers=4)\n",
        "\n",
        "t = transforms.Compose([transforms.ToTensor()])\n",
        "testset = torchvision.datasets.CIFAR100(root='./data', train=False,download=True, transform=t)\n",
        "testloader = torch.utils.data.DataLoader(testset, batch_size=128,shuffle=False, num_workers=4)"
      ],
      "execution_count": 2,
      "outputs": [
        {
          "output_type": "stream",
          "name": "stdout",
          "text": [
            "Downloading https://www.cs.toronto.edu/~kriz/cifar-100-python.tar.gz to ./data/cifar-100-python.tar.gz\n"
          ]
        },
        {
          "output_type": "display_data",
          "data": {
            "application/vnd.jupyter.widget-view+json": {
              "model_id": "fb1e61a9c582416386e6f3234f85658d",
              "version_minor": 0,
              "version_major": 2
            },
            "text/plain": [
              "  0%|          | 0/169001437 [00:00<?, ?it/s]"
            ]
          },
          "metadata": {}
        },
        {
          "output_type": "stream",
          "name": "stdout",
          "text": [
            "Extracting ./data/cifar-100-python.tar.gz to ./data\n"
          ]
        },
        {
          "output_type": "stream",
          "name": "stderr",
          "text": [
            "/usr/local/lib/python3.7/dist-packages/torch/utils/data/dataloader.py:481: UserWarning: This DataLoader will create 4 worker processes in total. Our suggested max number of worker in current system is 2, which is smaller than what this DataLoader is going to create. Please be aware that excessive worker creation might get DataLoader running slow or even freeze, lower the worker number to avoid potential slowness/freeze if necessary.\n",
            "  cpuset_checked))\n"
          ]
        },
        {
          "output_type": "stream",
          "name": "stdout",
          "text": [
            "Files already downloaded and verified\n"
          ]
        }
      ]
    },
    {
      "cell_type": "code",
      "metadata": {
        "id": "zXVtSZeH3p-t"
      },
      "source": [
        "class ConvNet(nn.Module):\n",
        "    def __init__(self):\n",
        "        super(ConvNet, self).__init__()\n",
        "        # Constraints for layer 1\n",
        "        self.conv1 = nn.Conv2d(in_channels= 3, out_channels=16, kernel_size=3, stride=1, padding=1)\n",
        "        self.batch1 = nn.BatchNorm2d(16)\n",
        "        self.relu1 = nn.ReLU()  # n, 32, 32, 16\n",
        "        # Constraints for layer 2\n",
        "        self.conv2 = nn.Conv2d(in_channels=16, out_channels=32, kernel_size=3, stride = 1)\n",
        "        self.batch2 = nn.BatchNorm2d(32)\n",
        "        self.relu2 = nn.ReLU()  # n, 30, 30, 32\n",
        "        # Constraints for layer 3\n",
        "        self.conv3 = nn.Conv2d(in_channels=32, out_channels=64, kernel_size=3, stride = 1)\n",
        "        self.batch3 = nn.BatchNorm2d(64)\n",
        "        self.relu3 = nn.ReLU()  # n, 28, 28, 64\n",
        "        self.pool3 = nn.MaxPool2d(2,2) # n, 14, 14, 128\n",
        "        # Constraints for layer 4\n",
        "        self.conv4 = nn.Conv2d(in_channels=64, out_channels=128, kernel_size=3, stride = 1)\n",
        "        self.batch4 = nn.BatchNorm2d(128)\n",
        "        self.relu4 = nn.ReLU()  # n, 12, 12, 128\n",
        "        # Constraints for layer 5\n",
        "        self.conv5 = nn.Conv2d(in_channels=128, out_channels=128, kernel_size=3, stride = 1)\n",
        "        self.batch5 = nn.BatchNorm2d(128)\n",
        "        self.relu5 = nn.ReLU()     # n, 10, 10, 128\n",
        "        \n",
        "\n",
        "        # Defining the Linear layer\n",
        "        self.fc1 = nn.Linear(128*10*10, 2560)\n",
        "        self.fc2 = nn.Linear(2560, 100)\n",
        "\n",
        "    def forward(self, x):\n",
        "        # -> n, 3, 32, 32\n",
        "        out = self.conv1(x)\n",
        "        out = self.batch1(out)\n",
        "        out = self.relu1(out)           \n",
        "\n",
        "        out = self.conv2(out)\n",
        "        out = self.batch2(out)\n",
        "        out = self.relu2(out)              \n",
        "\n",
        "        out = self.conv3(out)\n",
        "        out = self.batch3(out)\n",
        "        out = self.relu3(out)                   \n",
        "        out = self.pool3(out)   \n",
        "\n",
        "        out = self.conv4(out)\n",
        "        out = self.batch4(out)\n",
        "        out = self.relu4(out)   \n",
        "\n",
        "        out = self.conv5(out)\n",
        "        out = self.batch5(out)\n",
        "        out = self.relu5(out)\n",
        "\n",
        "        out = out.view(out.size(0), -1)      \n",
        "        # Linear Layer\n",
        "        out = self.fc1(out)\n",
        "        out = self.fc2(out)\n",
        "                 # -> n, 100\n",
        "        return out"
      ],
      "execution_count": 3,
      "outputs": []
    },
    {
      "cell_type": "code",
      "metadata": {
        "colab": {
          "base_uri": "https://localhost:8080/"
        },
        "id": "LNWimkKmuGId",
        "outputId": "f25005a7-4418-471b-de33-f8b5d0c5e016"
      },
      "source": [
        "model = ConvNet()\n",
        "model.cuda()"
      ],
      "execution_count": 4,
      "outputs": [
        {
          "output_type": "execute_result",
          "data": {
            "text/plain": [
              "ConvNet(\n",
              "  (conv1): Conv2d(3, 16, kernel_size=(3, 3), stride=(1, 1), padding=(1, 1))\n",
              "  (batch1): BatchNorm2d(16, eps=1e-05, momentum=0.1, affine=True, track_running_stats=True)\n",
              "  (relu1): ReLU()\n",
              "  (conv2): Conv2d(16, 32, kernel_size=(3, 3), stride=(1, 1))\n",
              "  (batch2): BatchNorm2d(32, eps=1e-05, momentum=0.1, affine=True, track_running_stats=True)\n",
              "  (relu2): ReLU()\n",
              "  (conv3): Conv2d(32, 64, kernel_size=(3, 3), stride=(1, 1))\n",
              "  (batch3): BatchNorm2d(64, eps=1e-05, momentum=0.1, affine=True, track_running_stats=True)\n",
              "  (relu3): ReLU()\n",
              "  (pool3): MaxPool2d(kernel_size=2, stride=2, padding=0, dilation=1, ceil_mode=False)\n",
              "  (conv4): Conv2d(64, 128, kernel_size=(3, 3), stride=(1, 1))\n",
              "  (batch4): BatchNorm2d(128, eps=1e-05, momentum=0.1, affine=True, track_running_stats=True)\n",
              "  (relu4): ReLU()\n",
              "  (conv5): Conv2d(128, 128, kernel_size=(3, 3), stride=(1, 1))\n",
              "  (batch5): BatchNorm2d(128, eps=1e-05, momentum=0.1, affine=True, track_running_stats=True)\n",
              "  (relu5): ReLU()\n",
              "  (fc1): Linear(in_features=12800, out_features=2560, bias=True)\n",
              "  (fc2): Linear(in_features=2560, out_features=100, bias=True)\n",
              ")"
            ]
          },
          "metadata": {},
          "execution_count": 4
        }
      ]
    },
    {
      "cell_type": "code",
      "metadata": {
        "colab": {
          "base_uri": "https://localhost:8080/"
        },
        "id": "DSM0cqOz4FtW",
        "outputId": "4241efe9-bfd9-4ec8-bcfa-ffc57f449839"
      },
      "source": [
        "model = ConvNet()\n",
        "model.cuda()\n",
        "\n",
        "loss_fn = nn.CrossEntropyLoss()\n",
        "optimizer = optim.Adam(model.parameters(),lr=0.001)\n",
        "\n",
        "num_epochs = 70\n",
        "logs = []\n",
        "for epoch in range(num_epochs):\n",
        "    total_right = 0\n",
        "    total = 0\n",
        "    \n",
        "    for data in trainloader:\n",
        "        inputs, labels = data\n",
        "        inputs, labels = Variable(inputs).cuda(),Variable(labels).cuda()\n",
        "        \n",
        "        optimizer.zero_grad()\n",
        "        \n",
        "        outputs = model(inputs)\n",
        "        loss = loss_fn(outputs,labels)\n",
        "        loss.backward()\n",
        "        optimizer.step()\n",
        "        \n",
        "        predicted = outputs.data.max(1)[1]\n",
        "        total += labels.size(0)\n",
        "        total_right += (predicted == labels.data).float().sum()\n",
        "        \n",
        "    print('Epoch {}, Training loss {}, Val accuracy {}'.format(epoch+1,loss,total_right/total))\n",
        "    logs.append('Epoch {}, Training loss: {}, Val accuracy: {}'.format(epoch, loss, total_right/total))\n",
        "    if (epoch+1)%5==0:\n",
        "        torch.save(model,'prt_cnn_cifar100.ckpt')\n",
        "    total_right = 0\n",
        "    total = 0"
      ],
      "execution_count": null,
      "outputs": [
        {
          "output_type": "stream",
          "name": "stderr",
          "text": [
            "/usr/local/lib/python3.7/dist-packages/torch/utils/data/dataloader.py:481: UserWarning: This DataLoader will create 4 worker processes in total. Our suggested max number of worker in current system is 2, which is smaller than what this DataLoader is going to create. Please be aware that excessive worker creation might get DataLoader running slow or even freeze, lower the worker number to avoid potential slowness/freeze if necessary.\n",
            "  cpuset_checked))\n"
          ]
        },
        {
          "output_type": "stream",
          "name": "stdout",
          "text": [
            "Epoch 1, Training loss 4.041775703430176, Val accuracy 0.07553999871015549\n",
            "Epoch 2, Training loss 3.530397415161133, Val accuracy 0.17712000012397766\n",
            "Epoch 3, Training loss 2.936615467071533, Val accuracy 0.2406199872493744\n",
            "Epoch 4, Training loss 2.704740285873413, Val accuracy 0.2942799925804138\n",
            "Epoch 5, Training loss 3.0999233722686768, Val accuracy 0.3340799808502197\n",
            "Epoch 6, Training loss 2.4535648822784424, Val accuracy 0.36381998658180237\n",
            "Epoch 7, Training loss 2.1478543281555176, Val accuracy 0.3912599980831146\n",
            "Epoch 8, Training loss 2.2048027515411377, Val accuracy 0.40803998708724976\n",
            "Epoch 9, Training loss 2.3172311782836914, Val accuracy 0.4260599911212921\n",
            "Epoch 10, Training loss 2.0083649158477783, Val accuracy 0.44001999497413635\n",
            "Epoch 11, Training loss 2.1557674407958984, Val accuracy 0.45715999603271484\n",
            "Epoch 12, Training loss 1.8109962940216064, Val accuracy 0.47247999906539917\n",
            "Epoch 13, Training loss 1.8725793361663818, Val accuracy 0.4784799814224243\n",
            "Epoch 14, Training loss 2.096858263015747, Val accuracy 0.49399998784065247\n",
            "Epoch 15, Training loss 1.8276468515396118, Val accuracy 0.50027996301651\n",
            "Epoch 16, Training loss 1.5451910495758057, Val accuracy 0.5066199898719788\n",
            "Epoch 17, Training loss 1.9945510625839233, Val accuracy 0.511959969997406\n",
            "Epoch 18, Training loss 2.180779218673706, Val accuracy 0.5143399834632874\n",
            "Epoch 19, Training loss 1.7562885284423828, Val accuracy 0.5281800031661987\n",
            "Epoch 20, Training loss 2.165152072906494, Val accuracy 0.5314199924468994\n",
            "Epoch 21, Training loss 1.663267731666565, Val accuracy 0.5405799746513367\n",
            "Epoch 22, Training loss 2.030618667602539, Val accuracy 0.5417599678039551\n",
            "Epoch 23, Training loss 2.567077398300171, Val accuracy 0.5493599772453308\n",
            "Epoch 24, Training loss 2.039357900619507, Val accuracy 0.5558599829673767\n",
            "Epoch 25, Training loss 1.6150531768798828, Val accuracy 0.5585799813270569\n",
            "Epoch 26, Training loss 1.9513044357299805, Val accuracy 0.5669999718666077\n",
            "Epoch 27, Training loss 1.4484097957611084, Val accuracy 0.5719199776649475\n",
            "Epoch 28, Training loss 1.7051957845687866, Val accuracy 0.5761399865150452\n",
            "Epoch 29, Training loss 1.8713648319244385, Val accuracy 0.5785199999809265\n",
            "Epoch 30, Training loss 1.2823704481124878, Val accuracy 0.5838199853897095\n",
            "Epoch 31, Training loss 1.1888608932495117, Val accuracy 0.588379979133606\n",
            "Epoch 32, Training loss 1.3710873126983643, Val accuracy 0.5910800099372864\n",
            "Epoch 33, Training loss 1.8686071634292603, Val accuracy 0.594980001449585\n",
            "Epoch 34, Training loss 1.304243564605713, Val accuracy 0.5977199673652649\n",
            "Epoch 35, Training loss 1.8455257415771484, Val accuracy 0.5929399728775024\n",
            "Epoch 36, Training loss 1.434889793395996, Val accuracy 0.604699969291687\n",
            "Epoch 37, Training loss 1.3112621307373047, Val accuracy 0.6096000075340271\n",
            "Epoch 38, Training loss 1.1229174137115479, Val accuracy 0.6117199659347534\n",
            "Epoch 39, Training loss 1.758419394493103, Val accuracy 0.6155200004577637\n",
            "Epoch 40, Training loss 1.8181660175323486, Val accuracy 0.6196199655532837\n",
            "Epoch 41, Training loss 1.176560640335083, Val accuracy 0.6204999685287476\n",
            "Epoch 42, Training loss 1.2713968753814697, Val accuracy 0.6253199577331543\n",
            "Epoch 43, Training loss 1.3304404020309448, Val accuracy 0.627240002155304\n",
            "Epoch 44, Training loss 1.3084102869033813, Val accuracy 0.6280800104141235\n",
            "Epoch 45, Training loss 1.1180142164230347, Val accuracy 0.632420003414154\n",
            "Epoch 46, Training loss 1.3922741413116455, Val accuracy 0.6318199634552002\n",
            "Epoch 47, Training loss 1.5260637998580933, Val accuracy 0.6365799903869629\n",
            "Epoch 48, Training loss 1.1755235195159912, Val accuracy 0.6414399743080139\n",
            "Epoch 49, Training loss 1.4318788051605225, Val accuracy 0.6418200135231018\n",
            "Epoch 50, Training loss 1.2754499912261963, Val accuracy 0.6446799635887146\n",
            "Epoch 51, Training loss 1.1890932321548462, Val accuracy 0.6486999988555908\n",
            "Epoch 52, Training loss 1.193095326423645, Val accuracy 0.6488800048828125\n",
            "Epoch 53, Training loss 1.1472136974334717, Val accuracy 0.6519599556922913\n",
            "Epoch 54, Training loss 1.2080366611480713, Val accuracy 0.6539599895477295\n",
            "Epoch 55, Training loss 1.3449409008026123, Val accuracy 0.6565999984741211\n",
            "Epoch 56, Training loss 1.3403147459030151, Val accuracy 0.6601999998092651\n",
            "Epoch 57, Training loss 1.1375553607940674, Val accuracy 0.6577399969100952\n",
            "Epoch 58, Training loss 1.078737497329712, Val accuracy 0.6599199771881104\n",
            "Epoch 59, Training loss 1.3128669261932373, Val accuracy 0.6609199643135071\n",
            "Epoch 60, Training loss 1.0991740226745605, Val accuracy 0.6647399663925171\n",
            "Epoch 61, Training loss 1.259075403213501, Val accuracy 0.66593998670578\n",
            "Epoch 62, Training loss 1.1052286624908447, Val accuracy 0.6713399887084961\n",
            "Epoch 63, Training loss 1.2692683935165405, Val accuracy 0.6681999564170837\n",
            "Epoch 64, Training loss 1.1624183654785156, Val accuracy 0.6743800044059753\n",
            "Epoch 65, Training loss 1.8269554376602173, Val accuracy 0.6726799607276917\n",
            "Epoch 66, Training loss 1.3817188739776611, Val accuracy 0.674340009689331\n",
            "Epoch 67, Training loss 0.9493576288223267, Val accuracy 0.6786199808120728\n",
            "Epoch 68, Training loss 1.1184630393981934, Val accuracy 0.6781399846076965\n",
            "Epoch 69, Training loss 1.1259444952011108, Val accuracy 0.6798200011253357\n",
            "Epoch 70, Training loss 0.7452579736709595, Val accuracy 0.6798200011253357\n"
          ]
        }
      ]
    },
    {
      "cell_type": "code",
      "metadata": {
        "id": "-QSaGkR8-gLW"
      },
      "source": [
        "with open('logs_cnn.txt', 'w') as f:\n",
        "    for line in logs:\n",
        "        f.write(line)\n",
        "        f.write('\\n')"
      ],
      "execution_count": null,
      "outputs": []
    },
    {
      "cell_type": "code",
      "metadata": {
        "colab": {
          "base_uri": "https://localhost:8080/"
        },
        "id": "uTOEWrklADS9",
        "outputId": "bc6d097d-3b4b-41fa-bfaa-36138ee3a4cb"
      },
      "source": [
        "my_model = torch.load('prt_cnn_cifar100.ckpt')\n",
        "\n",
        "total_right = 0\n",
        "total = 0\n",
        "\n",
        "with torch.no_grad():\n",
        "    for data in testloader:\n",
        "        images,labels = data\n",
        "        images, labels = Variable(images).cuda(),Variable(labels).cuda()\n",
        "        outputs = my_model(images)\n",
        "\n",
        "        predicted = outputs.data.max(1)[1]\n",
        "        total += labels.size(0)\n",
        "        total_right += (predicted == labels.data).float().sum()\n",
        "\n",
        "print(\"Test accuracy: %d\" % (100*total_right/total))"
      ],
      "execution_count": null,
      "outputs": [
        {
          "output_type": "stream",
          "name": "stderr",
          "text": [
            "/usr/local/lib/python3.7/dist-packages/torch/utils/data/dataloader.py:481: UserWarning: This DataLoader will create 4 worker processes in total. Our suggested max number of worker in current system is 2, which is smaller than what this DataLoader is going to create. Please be aware that excessive worker creation might get DataLoader running slow or even freeze, lower the worker number to avoid potential slowness/freeze if necessary.\n",
            "  cpuset_checked))\n"
          ]
        },
        {
          "output_type": "stream",
          "name": "stdout",
          "text": [
            "Test accuracy: 56\n"
          ]
        }
      ]
    },
    {
      "cell_type": "code",
      "metadata": {
        "id": "LtLb35V8Ev1i",
        "colab": {
          "base_uri": "https://localhost:8080/"
        },
        "outputId": "2c1fdf17-c9f4-45ae-ffb1-de68caf5355c"
      },
      "source": [
        "from torchsummary import summary\n",
        "device = torch.device(\"cuda\" if torch.cuda.is_available() else \"cpu\")\n",
        "model = ConvNet().to(device)\n",
        "summary(model,input_size=(3, 32, 32))"
      ],
      "execution_count": 5,
      "outputs": [
        {
          "output_type": "stream",
          "name": "stdout",
          "text": [
            "----------------------------------------------------------------\n",
            "        Layer (type)               Output Shape         Param #\n",
            "================================================================\n",
            "            Conv2d-1           [-1, 16, 32, 32]             448\n",
            "       BatchNorm2d-2           [-1, 16, 32, 32]              32\n",
            "              ReLU-3           [-1, 16, 32, 32]               0\n",
            "            Conv2d-4           [-1, 32, 30, 30]           4,640\n",
            "       BatchNorm2d-5           [-1, 32, 30, 30]              64\n",
            "              ReLU-6           [-1, 32, 30, 30]               0\n",
            "            Conv2d-7           [-1, 64, 28, 28]          18,496\n",
            "       BatchNorm2d-8           [-1, 64, 28, 28]             128\n",
            "              ReLU-9           [-1, 64, 28, 28]               0\n",
            "        MaxPool2d-10           [-1, 64, 14, 14]               0\n",
            "           Conv2d-11          [-1, 128, 12, 12]          73,856\n",
            "      BatchNorm2d-12          [-1, 128, 12, 12]             256\n",
            "             ReLU-13          [-1, 128, 12, 12]               0\n",
            "           Conv2d-14          [-1, 128, 10, 10]         147,584\n",
            "      BatchNorm2d-15          [-1, 128, 10, 10]             256\n",
            "             ReLU-16          [-1, 128, 10, 10]               0\n",
            "           Linear-17                 [-1, 2560]      32,770,560\n",
            "           Linear-18                  [-1, 100]         256,100\n",
            "================================================================\n",
            "Total params: 33,272,420\n",
            "Trainable params: 33,272,420\n",
            "Non-trainable params: 0\n",
            "----------------------------------------------------------------\n",
            "Input size (MB): 0.01\n",
            "Forward/backward pass size (MB): 3.01\n",
            "Params size (MB): 126.92\n",
            "Estimated Total Size (MB): 129.95\n",
            "----------------------------------------------------------------\n"
          ]
        },
        {
          "output_type": "stream",
          "name": "stderr",
          "text": [
            "/usr/local/lib/python3.7/dist-packages/torch/nn/functional.py:718: UserWarning: Named tensors and all their associated APIs are an experimental feature and subject to change. Please do not use them for anything important until they are released as stable. (Triggered internally at  /pytorch/c10/core/TensorImpl.h:1156.)\n",
            "  return torch.max_pool2d(input, kernel_size, stride, padding, dilation, ceil_mode)\n"
          ]
        }
      ]
    },
    {
      "cell_type": "code",
      "metadata": {
        "id": "3a27_JQfuKqj"
      },
      "source": [
        ""
      ],
      "execution_count": null,
      "outputs": []
    }
  ]
}