{
  "nbformat": 4,
  "nbformat_minor": 0,
  "metadata": {
    "colab": {
      "name": "Cifar100_vgg13.ipynb",
      "provenance": [],
      "collapsed_sections": [],
      "include_colab_link": true
    },
    "kernelspec": {
      "name": "python3",
      "display_name": "Python 3"
    },
    "language_info": {
      "name": "python"
    },
    "accelerator": "GPU",
    "widgets": {
      "application/vnd.jupyter.widget-state+json": {
        "91d9c968cace4061810e2c28cb333d1e": {
          "model_module": "@jupyter-widgets/controls",
          "model_name": "HBoxModel",
          "model_module_version": "1.5.0",
          "state": {
            "_view_name": "HBoxView",
            "_dom_classes": [],
            "_model_name": "HBoxModel",
            "_view_module": "@jupyter-widgets/controls",
            "_model_module_version": "1.5.0",
            "_view_count": null,
            "_view_module_version": "1.5.0",
            "box_style": "",
            "layout": "IPY_MODEL_63be827e7cce468f976794c4d1a25b86",
            "_model_module": "@jupyter-widgets/controls",
            "children": [
              "IPY_MODEL_38c24db5d80e4f239007fd7ded9bd6f6",
              "IPY_MODEL_214c13ec2bde48129963ff602541f68d",
              "IPY_MODEL_88a888a086c642e2ad5f71dcbb39c2c6"
            ]
          }
        },
        "63be827e7cce468f976794c4d1a25b86": {
          "model_module": "@jupyter-widgets/base",
          "model_name": "LayoutModel",
          "model_module_version": "1.2.0",
          "state": {
            "_view_name": "LayoutView",
            "grid_template_rows": null,
            "right": null,
            "justify_content": null,
            "_view_module": "@jupyter-widgets/base",
            "overflow": null,
            "_model_module_version": "1.2.0",
            "_view_count": null,
            "flex_flow": null,
            "width": null,
            "min_width": null,
            "border": null,
            "align_items": null,
            "bottom": null,
            "_model_module": "@jupyter-widgets/base",
            "top": null,
            "grid_column": null,
            "overflow_y": null,
            "overflow_x": null,
            "grid_auto_flow": null,
            "grid_area": null,
            "grid_template_columns": null,
            "flex": null,
            "_model_name": "LayoutModel",
            "justify_items": null,
            "grid_row": null,
            "max_height": null,
            "align_content": null,
            "visibility": null,
            "align_self": null,
            "height": null,
            "min_height": null,
            "padding": null,
            "grid_auto_rows": null,
            "grid_gap": null,
            "max_width": null,
            "order": null,
            "_view_module_version": "1.2.0",
            "grid_template_areas": null,
            "object_position": null,
            "object_fit": null,
            "grid_auto_columns": null,
            "margin": null,
            "display": null,
            "left": null
          }
        },
        "38c24db5d80e4f239007fd7ded9bd6f6": {
          "model_module": "@jupyter-widgets/controls",
          "model_name": "HTMLModel",
          "model_module_version": "1.5.0",
          "state": {
            "_view_name": "HTMLView",
            "style": "IPY_MODEL_0277fa0faff04acb9edd4cf59a094be6",
            "_dom_classes": [],
            "description": "",
            "_model_name": "HTMLModel",
            "placeholder": "​",
            "_view_module": "@jupyter-widgets/controls",
            "_model_module_version": "1.5.0",
            "value": "",
            "_view_count": null,
            "_view_module_version": "1.5.0",
            "description_tooltip": null,
            "_model_module": "@jupyter-widgets/controls",
            "layout": "IPY_MODEL_c425e75f6e3647c298edabfa6cce78be"
          }
        },
        "214c13ec2bde48129963ff602541f68d": {
          "model_module": "@jupyter-widgets/controls",
          "model_name": "FloatProgressModel",
          "model_module_version": "1.5.0",
          "state": {
            "_view_name": "ProgressView",
            "style": "IPY_MODEL_3e3ff712c04d4d7287f45415c2894ab2",
            "_dom_classes": [],
            "description": "",
            "_model_name": "FloatProgressModel",
            "bar_style": "success",
            "max": 169001437,
            "_view_module": "@jupyter-widgets/controls",
            "_model_module_version": "1.5.0",
            "value": 169001437,
            "_view_count": null,
            "_view_module_version": "1.5.0",
            "orientation": "horizontal",
            "min": 0,
            "description_tooltip": null,
            "_model_module": "@jupyter-widgets/controls",
            "layout": "IPY_MODEL_df07b606faff4c1fa5c6ef8b8315ce4b"
          }
        },
        "88a888a086c642e2ad5f71dcbb39c2c6": {
          "model_module": "@jupyter-widgets/controls",
          "model_name": "HTMLModel",
          "model_module_version": "1.5.0",
          "state": {
            "_view_name": "HTMLView",
            "style": "IPY_MODEL_49e89852fff6427685fa439207f3e92c",
            "_dom_classes": [],
            "description": "",
            "_model_name": "HTMLModel",
            "placeholder": "​",
            "_view_module": "@jupyter-widgets/controls",
            "_model_module_version": "1.5.0",
            "value": " 169001984/? [00:10&lt;00:00, 17340348.42it/s]",
            "_view_count": null,
            "_view_module_version": "1.5.0",
            "description_tooltip": null,
            "_model_module": "@jupyter-widgets/controls",
            "layout": "IPY_MODEL_92821ae3a5974988aab92c6cc586f0f1"
          }
        },
        "0277fa0faff04acb9edd4cf59a094be6": {
          "model_module": "@jupyter-widgets/controls",
          "model_name": "DescriptionStyleModel",
          "model_module_version": "1.5.0",
          "state": {
            "_view_name": "StyleView",
            "_model_name": "DescriptionStyleModel",
            "description_width": "",
            "_view_module": "@jupyter-widgets/base",
            "_model_module_version": "1.5.0",
            "_view_count": null,
            "_view_module_version": "1.2.0",
            "_model_module": "@jupyter-widgets/controls"
          }
        },
        "c425e75f6e3647c298edabfa6cce78be": {
          "model_module": "@jupyter-widgets/base",
          "model_name": "LayoutModel",
          "model_module_version": "1.2.0",
          "state": {
            "_view_name": "LayoutView",
            "grid_template_rows": null,
            "right": null,
            "justify_content": null,
            "_view_module": "@jupyter-widgets/base",
            "overflow": null,
            "_model_module_version": "1.2.0",
            "_view_count": null,
            "flex_flow": null,
            "width": null,
            "min_width": null,
            "border": null,
            "align_items": null,
            "bottom": null,
            "_model_module": "@jupyter-widgets/base",
            "top": null,
            "grid_column": null,
            "overflow_y": null,
            "overflow_x": null,
            "grid_auto_flow": null,
            "grid_area": null,
            "grid_template_columns": null,
            "flex": null,
            "_model_name": "LayoutModel",
            "justify_items": null,
            "grid_row": null,
            "max_height": null,
            "align_content": null,
            "visibility": null,
            "align_self": null,
            "height": null,
            "min_height": null,
            "padding": null,
            "grid_auto_rows": null,
            "grid_gap": null,
            "max_width": null,
            "order": null,
            "_view_module_version": "1.2.0",
            "grid_template_areas": null,
            "object_position": null,
            "object_fit": null,
            "grid_auto_columns": null,
            "margin": null,
            "display": null,
            "left": null
          }
        },
        "3e3ff712c04d4d7287f45415c2894ab2": {
          "model_module": "@jupyter-widgets/controls",
          "model_name": "ProgressStyleModel",
          "model_module_version": "1.5.0",
          "state": {
            "_view_name": "StyleView",
            "_model_name": "ProgressStyleModel",
            "description_width": "",
            "_view_module": "@jupyter-widgets/base",
            "_model_module_version": "1.5.0",
            "_view_count": null,
            "_view_module_version": "1.2.0",
            "bar_color": null,
            "_model_module": "@jupyter-widgets/controls"
          }
        },
        "df07b606faff4c1fa5c6ef8b8315ce4b": {
          "model_module": "@jupyter-widgets/base",
          "model_name": "LayoutModel",
          "model_module_version": "1.2.0",
          "state": {
            "_view_name": "LayoutView",
            "grid_template_rows": null,
            "right": null,
            "justify_content": null,
            "_view_module": "@jupyter-widgets/base",
            "overflow": null,
            "_model_module_version": "1.2.0",
            "_view_count": null,
            "flex_flow": null,
            "width": null,
            "min_width": null,
            "border": null,
            "align_items": null,
            "bottom": null,
            "_model_module": "@jupyter-widgets/base",
            "top": null,
            "grid_column": null,
            "overflow_y": null,
            "overflow_x": null,
            "grid_auto_flow": null,
            "grid_area": null,
            "grid_template_columns": null,
            "flex": null,
            "_model_name": "LayoutModel",
            "justify_items": null,
            "grid_row": null,
            "max_height": null,
            "align_content": null,
            "visibility": null,
            "align_self": null,
            "height": null,
            "min_height": null,
            "padding": null,
            "grid_auto_rows": null,
            "grid_gap": null,
            "max_width": null,
            "order": null,
            "_view_module_version": "1.2.0",
            "grid_template_areas": null,
            "object_position": null,
            "object_fit": null,
            "grid_auto_columns": null,
            "margin": null,
            "display": null,
            "left": null
          }
        },
        "49e89852fff6427685fa439207f3e92c": {
          "model_module": "@jupyter-widgets/controls",
          "model_name": "DescriptionStyleModel",
          "model_module_version": "1.5.0",
          "state": {
            "_view_name": "StyleView",
            "_model_name": "DescriptionStyleModel",
            "description_width": "",
            "_view_module": "@jupyter-widgets/base",
            "_model_module_version": "1.5.0",
            "_view_count": null,
            "_view_module_version": "1.2.0",
            "_model_module": "@jupyter-widgets/controls"
          }
        },
        "92821ae3a5974988aab92c6cc586f0f1": {
          "model_module": "@jupyter-widgets/base",
          "model_name": "LayoutModel",
          "model_module_version": "1.2.0",
          "state": {
            "_view_name": "LayoutView",
            "grid_template_rows": null,
            "right": null,
            "justify_content": null,
            "_view_module": "@jupyter-widgets/base",
            "overflow": null,
            "_model_module_version": "1.2.0",
            "_view_count": null,
            "flex_flow": null,
            "width": null,
            "min_width": null,
            "border": null,
            "align_items": null,
            "bottom": null,
            "_model_module": "@jupyter-widgets/base",
            "top": null,
            "grid_column": null,
            "overflow_y": null,
            "overflow_x": null,
            "grid_auto_flow": null,
            "grid_area": null,
            "grid_template_columns": null,
            "flex": null,
            "_model_name": "LayoutModel",
            "justify_items": null,
            "grid_row": null,
            "max_height": null,
            "align_content": null,
            "visibility": null,
            "align_self": null,
            "height": null,
            "min_height": null,
            "padding": null,
            "grid_auto_rows": null,
            "grid_gap": null,
            "max_width": null,
            "order": null,
            "_view_module_version": "1.2.0",
            "grid_template_areas": null,
            "object_position": null,
            "object_fit": null,
            "grid_auto_columns": null,
            "margin": null,
            "display": null,
            "left": null
          }
        }
      }
    }
  },
  "cells": [
    {
      "cell_type": "markdown",
      "metadata": {
        "id": "view-in-github",
        "colab_type": "text"
      },
      "source": [
        "<a href=\"https://colab.research.google.com/github/donghithanh/Cifar100Classification/blob/main/Cifar100_vgg13.ipynb\" target=\"_parent\"><img src=\"https://colab.research.google.com/assets/colab-badge.svg\" alt=\"Open In Colab\"/></a>"
      ]
    },
    {
      "cell_type": "code",
      "metadata": {
        "id": "_qhLwhMI2xlh"
      },
      "source": [
        "import numpy as np\n",
        "import torch\n",
        "import torch.nn as nn\n",
        "import torch.nn.functional as F\n",
        "import torch.optim as optim\n",
        "from torch.autograd import Variable\n",
        "import torchvision\n",
        "import torchvision.transforms as transforms"
      ],
      "execution_count": null,
      "outputs": []
    },
    {
      "cell_type": "code",
      "metadata": {
        "colab": {
          "base_uri": "https://localhost:8080/",
          "height": 154,
          "referenced_widgets": [
            "91d9c968cace4061810e2c28cb333d1e",
            "63be827e7cce468f976794c4d1a25b86",
            "38c24db5d80e4f239007fd7ded9bd6f6",
            "214c13ec2bde48129963ff602541f68d",
            "88a888a086c642e2ad5f71dcbb39c2c6",
            "0277fa0faff04acb9edd4cf59a094be6",
            "c425e75f6e3647c298edabfa6cce78be",
            "3e3ff712c04d4d7287f45415c2894ab2",
            "df07b606faff4c1fa5c6ef8b8315ce4b",
            "49e89852fff6427685fa439207f3e92c",
            "92821ae3a5974988aab92c6cc586f0f1"
          ]
        },
        "id": "O7J7ydZZ3kVr",
        "outputId": "7b1b5eae-a516-4360-8c34-91abc50f8dbb"
      },
      "source": [
        "transform = transforms.Compose([transforms.RandomCrop(32, padding=4),transforms.RandomHorizontalFlip(),transforms.ToTensor()])\n",
        "trainset = torchvision.datasets.CIFAR100(root='./data', train=True,download=True, transform=transform)\n",
        "trainloader = torch.utils.data.DataLoader(trainset, batch_size=128,shuffle=True, num_workers=4)\n",
        "\n",
        "t = transforms.Compose([transforms.ToTensor()])\n",
        "testset = torchvision.datasets.CIFAR100(root='./data', train=False,download=True, transform=t)\n",
        "testloader = torch.utils.data.DataLoader(testset, batch_size=128,shuffle=False, num_workers=4)"
      ],
      "execution_count": null,
      "outputs": [
        {
          "output_type": "stream",
          "name": "stdout",
          "text": [
            "Downloading https://www.cs.toronto.edu/~kriz/cifar-100-python.tar.gz to ./data/cifar-100-python.tar.gz\n"
          ]
        },
        {
          "output_type": "display_data",
          "data": {
            "application/vnd.jupyter.widget-view+json": {
              "model_id": "91d9c968cace4061810e2c28cb333d1e",
              "version_minor": 0,
              "version_major": 2
            },
            "text/plain": [
              "  0%|          | 0/169001437 [00:00<?, ?it/s]"
            ]
          },
          "metadata": {}
        },
        {
          "output_type": "stream",
          "name": "stdout",
          "text": [
            "Extracting ./data/cifar-100-python.tar.gz to ./data\n"
          ]
        },
        {
          "output_type": "stream",
          "name": "stderr",
          "text": [
            "/usr/local/lib/python3.7/dist-packages/torch/utils/data/dataloader.py:481: UserWarning: This DataLoader will create 4 worker processes in total. Our suggested max number of worker in current system is 2, which is smaller than what this DataLoader is going to create. Please be aware that excessive worker creation might get DataLoader running slow or even freeze, lower the worker number to avoid potential slowness/freeze if necessary.\n",
            "  cpuset_checked))\n"
          ]
        },
        {
          "output_type": "stream",
          "name": "stdout",
          "text": [
            "Files already downloaded and verified\n"
          ]
        }
      ]
    },
    {
      "cell_type": "code",
      "metadata": {
        "id": "KznJIgQRTtay"
      },
      "source": [
        "cfg = {\n",
        "    'A' : [64,     'M', 128,      'M', 256, 256,           'M', 512, 512,           'M', 512, 512,           'M'],\n",
        "    'B' : [64, 64, 'M', 128, 128, 'M', 256, 256,           'M', 512, 512,           'M', 512, 512,           'M'],\n",
        "    'D' : [64, 64, 'M', 128, 128, 'M', 256, 256, 256,      'M', 512, 512, 512,      'M', 512, 512, 512,      'M'],\n",
        "    'E' : [64, 64, 'M', 128, 128, 'M', 256, 256, 256, 256, 'M', 512, 512, 512, 512, 'M', 512, 512, 512, 512, 'M']\n",
        "}"
      ],
      "execution_count": null,
      "outputs": []
    },
    {
      "cell_type": "code",
      "metadata": {
        "id": "zXVtSZeH3p-t"
      },
      "source": [
        "class VGG(nn.Module):\n",
        "\n",
        "    def __init__(self, features, num_class=100):\n",
        "        super().__init__()\n",
        "        self.features = features\n",
        "\n",
        "        self.classifier = nn.Sequential(\n",
        "            nn.Linear(512, 4096),\n",
        "            nn.ReLU(inplace=True),\n",
        "            nn.Dropout(),\n",
        "            nn.Linear(4096, 4096),\n",
        "            nn.ReLU(inplace=True),\n",
        "            nn.Dropout(),\n",
        "            nn.Linear(4096, num_class)\n",
        "        )\n",
        "\n",
        "    def forward(self, x):\n",
        "        output = self.features(x)\n",
        "        output = output.view(output.size()[0], -1)\n",
        "        output = self.classifier(output)\n",
        "\n",
        "        return output\n",
        "\n",
        "def make_layers(cfg, batch_norm=False):\n",
        "    layers = []\n",
        "\n",
        "    input_channel = 3\n",
        "    for l in cfg:\n",
        "        if l == 'M':\n",
        "            layers += [nn.MaxPool2d(kernel_size=2, stride=2)]\n",
        "            continue\n",
        "\n",
        "        layers += [nn.Conv2d(input_channel, l, kernel_size=3, padding=1)]\n",
        "\n",
        "        if batch_norm:\n",
        "            layers += [nn.BatchNorm2d(l)]\n",
        "\n",
        "        layers += [nn.ReLU(inplace=True)]\n",
        "        input_channel = l\n",
        "\n",
        "    return nn.Sequential(*layers)"
      ],
      "execution_count": null,
      "outputs": []
    },
    {
      "cell_type": "code",
      "metadata": {
        "colab": {
          "base_uri": "https://localhost:8080/"
        },
        "id": "DSM0cqOz4FtW",
        "outputId": "c8b5414b-81f0-4ad5-dc9a-9fb48f2eef17"
      },
      "source": [
        "model = VGG(make_layers(cfg['B'], batch_norm=True))\n",
        "model.cuda()\n",
        "\n",
        "loss_fn = nn.CrossEntropyLoss()\n",
        "optimizer = optim.Adam(model.parameters(),lr=0.001)\n",
        "\n",
        "num_epochs = 70\n",
        "logs = []\n",
        "for epoch in range(num_epochs):\n",
        "    total_right = 0\n",
        "    total = 0\n",
        "    \n",
        "    for data in trainloader:\n",
        "        inputs, labels = data\n",
        "        inputs, labels = Variable(inputs).cuda(),Variable(labels).cuda()\n",
        "        \n",
        "        optimizer.zero_grad()\n",
        "        \n",
        "        outputs = model(inputs)\n",
        "        loss = loss_fn(outputs,labels)\n",
        "        loss.backward()\n",
        "        optimizer.step()\n",
        "        \n",
        "        predicted = outputs.data.max(1)[1]\n",
        "        total += labels.size(0)\n",
        "        total_right += (predicted == labels.data).float().sum()\n",
        "        \n",
        "    print('Epoch {}, Training loss {}, Val accuracy {}'.format(epoch+1,loss,total_right/total))\n",
        "    logs.append('Epoch {}, Training loss: {}, Val accuracy: {}'.format(epoch, loss, total_right/total))\n",
        "    if (epoch+1)%5==0:\n",
        "        torch.save(model,'prt_vgg13_cifar100.ckpt')\n",
        "    total_right = 0\n",
        "    total = 0"
      ],
      "execution_count": null,
      "outputs": [
        {
          "output_type": "stream",
          "name": "stderr",
          "text": [
            "/usr/local/lib/python3.7/dist-packages/torch/utils/data/dataloader.py:481: UserWarning: This DataLoader will create 4 worker processes in total. Our suggested max number of worker in current system is 2, which is smaller than what this DataLoader is going to create. Please be aware that excessive worker creation might get DataLoader running slow or even freeze, lower the worker number to avoid potential slowness/freeze if necessary.\n",
            "  cpuset_checked))\n"
          ]
        },
        {
          "output_type": "stream",
          "name": "stdout",
          "text": [
            "Epoch 1, Training loss 4.178382873535156, Val accuracy 0.020819999277591705\n",
            "Epoch 2, Training loss 4.0144267082214355, Val accuracy 0.044599998742341995\n",
            "Epoch 3, Training loss 3.7010509967803955, Val accuracy 0.07131999731063843\n",
            "Epoch 4, Training loss 3.697787046432495, Val accuracy 0.090379998087883\n",
            "Epoch 5, Training loss 3.5798192024230957, Val accuracy 0.11499999463558197\n",
            "Epoch 6, Training loss 3.097090005874634, Val accuracy 0.15014000236988068\n",
            "Epoch 7, Training loss 2.9505183696746826, Val accuracy 0.19147999584674835\n",
            "Epoch 8, Training loss 3.1520915031433105, Val accuracy 0.2315399944782257\n",
            "Epoch 9, Training loss 2.6619691848754883, Val accuracy 0.2668199837207794\n",
            "Epoch 10, Training loss 2.551929235458374, Val accuracy 0.3055799901485443\n",
            "Epoch 11, Training loss 2.4772229194641113, Val accuracy 0.34095999598503113\n",
            "Epoch 12, Training loss 2.4434046745300293, Val accuracy 0.3714599907398224\n",
            "Epoch 13, Training loss 2.0581650733947754, Val accuracy 0.3982599973678589\n",
            "Epoch 14, Training loss 1.8046720027923584, Val accuracy 0.4273799955844879\n",
            "Epoch 15, Training loss 1.9518935680389404, Val accuracy 0.449319988489151\n",
            "Epoch 16, Training loss 1.9912545680999756, Val accuracy 0.47088000178337097\n",
            "Epoch 17, Training loss 1.8765884637832642, Val accuracy 0.4938199818134308\n",
            "Epoch 18, Training loss 1.5954771041870117, Val accuracy 0.5146600008010864\n",
            "Epoch 19, Training loss 1.5782513618469238, Val accuracy 0.5304399728775024\n",
            "Epoch 20, Training loss 1.6036624908447266, Val accuracy 0.5475800037384033\n",
            "Epoch 21, Training loss 1.4084279537200928, Val accuracy 0.5644800066947937\n",
            "Epoch 22, Training loss 1.3377430438995361, Val accuracy 0.5792399644851685\n",
            "Epoch 23, Training loss 1.7588319778442383, Val accuracy 0.5931000113487244\n",
            "Epoch 24, Training loss 1.4508427381515503, Val accuracy 0.6069599986076355\n",
            "Epoch 25, Training loss 1.243313193321228, Val accuracy 0.6197999715805054\n",
            "Epoch 26, Training loss 1.4371747970581055, Val accuracy 0.636680006980896\n",
            "Epoch 27, Training loss 1.1829456090927124, Val accuracy 0.6443399786949158\n",
            "Epoch 28, Training loss 1.1317118406295776, Val accuracy 0.6567599773406982\n",
            "Epoch 29, Training loss 1.0752819776535034, Val accuracy 0.6662600040435791\n",
            "Epoch 30, Training loss 1.1516000032424927, Val accuracy 0.6777999997138977\n",
            "Epoch 31, Training loss 1.2715108394622803, Val accuracy 0.6879599690437317\n",
            "Epoch 32, Training loss 0.8742815256118774, Val accuracy 0.6962800025939941\n",
            "Epoch 33, Training loss 1.1072553396224976, Val accuracy 0.7060999870300293\n",
            "Epoch 34, Training loss 0.6764625906944275, Val accuracy 0.7147799730300903\n",
            "Epoch 35, Training loss 1.0868024826049805, Val accuracy 0.7231599688529968\n",
            "Epoch 36, Training loss 0.7628341913223267, Val accuracy 0.7295399904251099\n",
            "Epoch 37, Training loss 0.9495126605033875, Val accuracy 0.7424599528312683\n",
            "Epoch 38, Training loss 0.6908737421035767, Val accuracy 0.7504199743270874\n",
            "Epoch 39, Training loss 0.7314282059669495, Val accuracy 0.7552599906921387\n",
            "Epoch 40, Training loss 1.2439968585968018, Val accuracy 0.7631399631500244\n",
            "Epoch 41, Training loss 0.6718414425849915, Val accuracy 0.7713399529457092\n",
            "Epoch 42, Training loss 0.7868751287460327, Val accuracy 0.7791799902915955\n",
            "Epoch 43, Training loss 0.529685378074646, Val accuracy 0.779699981212616\n",
            "Epoch 44, Training loss 0.7254050970077515, Val accuracy 0.7883999943733215\n",
            "Epoch 45, Training loss 0.7767189741134644, Val accuracy 0.7964999675750732\n",
            "Epoch 46, Training loss 0.7740105390548706, Val accuracy 0.8018800020217896\n",
            "Epoch 47, Training loss 0.7565675973892212, Val accuracy 0.8101599812507629\n",
            "Epoch 48, Training loss 0.9314606785774231, Val accuracy 0.8173799514770508\n",
            "Epoch 49, Training loss 0.987104058265686, Val accuracy 0.8211599588394165\n",
            "Epoch 50, Training loss 0.6219309568405151, Val accuracy 0.8238399624824524\n",
            "Epoch 51, Training loss 0.6317986845970154, Val accuracy 0.8331999778747559\n",
            "Epoch 52, Training loss 0.6863150000572205, Val accuracy 0.8373799920082092\n",
            "Epoch 53, Training loss 0.5508190393447876, Val accuracy 0.843239963054657\n",
            "Epoch 54, Training loss 0.6952921748161316, Val accuracy 0.8438599705696106\n",
            "Epoch 55, Training loss 0.4924917221069336, Val accuracy 0.8229399919509888\n",
            "Epoch 56, Training loss 0.5832642912864685, Val accuracy 0.8504199981689453\n",
            "Epoch 57, Training loss 0.46876397728919983, Val accuracy 0.8570199608802795\n",
            "Epoch 58, Training loss 0.497032105922699, Val accuracy 0.8659600019454956\n",
            "Epoch 59, Training loss 0.5409959554672241, Val accuracy 0.8659200072288513\n",
            "Epoch 60, Training loss 0.8847681283950806, Val accuracy 0.8716599941253662\n",
            "Epoch 61, Training loss 0.7350767850875854, Val accuracy 0.8719799518585205\n",
            "Epoch 62, Training loss 0.4077973961830139, Val accuracy 0.8781399726867676\n",
            "Epoch 63, Training loss 0.5990578532218933, Val accuracy 0.8831599950790405\n",
            "Epoch 64, Training loss 0.5308141708374023, Val accuracy 0.8817600011825562\n",
            "Epoch 65, Training loss 0.3734312355518341, Val accuracy 0.8858599662780762\n",
            "Epoch 66, Training loss 0.645578145980835, Val accuracy 0.8911599516868591\n",
            "Epoch 67, Training loss 0.4803522527217865, Val accuracy 0.8938599824905396\n",
            "Epoch 68, Training loss 0.38756775856018066, Val accuracy 0.8931799530982971\n",
            "Epoch 69, Training loss 0.4170474112033844, Val accuracy 0.8952800035476685\n",
            "Epoch 70, Training loss 0.35051020979881287, Val accuracy 0.8999799489974976\n"
          ]
        }
      ]
    },
    {
      "cell_type": "code",
      "metadata": {
        "id": "-QSaGkR8-gLW"
      },
      "source": [
        "with open('logs_vgg13.txt', 'w') as f:\n",
        "    for line in logs:\n",
        "        f.write(line)\n",
        "        f.write('\\n')"
      ],
      "execution_count": null,
      "outputs": []
    },
    {
      "cell_type": "code",
      "metadata": {
        "colab": {
          "base_uri": "https://localhost:8080/"
        },
        "id": "uTOEWrklADS9",
        "outputId": "d7d636c0-6588-43a5-e1fa-7c67bb9e41df"
      },
      "source": [
        "my_model = torch.load('prt_vgg13_cifar100.ckpt')\n",
        "\n",
        "total_right = 0\n",
        "total = 0\n",
        "\n",
        "with torch.no_grad():\n",
        "    for data in testloader:\n",
        "        images,labels = data\n",
        "        images, labels = Variable(images).cuda(),Variable(labels).cuda()\n",
        "        outputs = my_model(images)\n",
        "\n",
        "        predicted = outputs.data.max(1)[1]\n",
        "        total += labels.size(0)\n",
        "        total_right += (predicted == labels.data).float().sum()\n",
        "\n",
        "print(\"Test accuracy: %d\" % (100*total_right/total))"
      ],
      "execution_count": null,
      "outputs": [
        {
          "output_type": "stream",
          "name": "stderr",
          "text": [
            "/usr/local/lib/python3.7/dist-packages/torch/utils/data/dataloader.py:481: UserWarning: This DataLoader will create 4 worker processes in total. Our suggested max number of worker in current system is 2, which is smaller than what this DataLoader is going to create. Please be aware that excessive worker creation might get DataLoader running slow or even freeze, lower the worker number to avoid potential slowness/freeze if necessary.\n",
            "  cpuset_checked))\n"
          ]
        },
        {
          "output_type": "stream",
          "name": "stdout",
          "text": [
            "Test accuracy: 62\n"
          ]
        }
      ]
    },
    {
      "cell_type": "code",
      "metadata": {
        "id": "LtLb35V8Ev1i"
      },
      "source": [
        "from torchsummary import summary"
      ],
      "execution_count": null,
      "outputs": []
    },
    {
      "cell_type": "code",
      "metadata": {
        "colab": {
          "base_uri": "https://localhost:8080/"
        },
        "id": "MaO6_ZQHm13D",
        "outputId": "089c446f-b02b-4fd3-fde9-1801796d15b1"
      },
      "source": [
        "device = torch.device(\"cuda\" if torch.cuda.is_available() else \"cpu\")\n",
        "model = VGG(make_layers(cfg['B'], batch_norm=True)).to(device)\n",
        "summary(model,input_size=(3, 32, 32))"
      ],
      "execution_count": null,
      "outputs": [
        {
          "output_type": "stream",
          "name": "stdout",
          "text": [
            "----------------------------------------------------------------\n",
            "        Layer (type)               Output Shape         Param #\n",
            "================================================================\n",
            "            Conv2d-1           [-1, 64, 32, 32]           1,792\n",
            "       BatchNorm2d-2           [-1, 64, 32, 32]             128\n",
            "              ReLU-3           [-1, 64, 32, 32]               0\n",
            "            Conv2d-4           [-1, 64, 32, 32]          36,928\n",
            "       BatchNorm2d-5           [-1, 64, 32, 32]             128\n",
            "              ReLU-6           [-1, 64, 32, 32]               0\n",
            "         MaxPool2d-7           [-1, 64, 16, 16]               0\n",
            "            Conv2d-8          [-1, 128, 16, 16]          73,856\n",
            "       BatchNorm2d-9          [-1, 128, 16, 16]             256\n",
            "             ReLU-10          [-1, 128, 16, 16]               0\n",
            "           Conv2d-11          [-1, 128, 16, 16]         147,584\n",
            "      BatchNorm2d-12          [-1, 128, 16, 16]             256\n",
            "             ReLU-13          [-1, 128, 16, 16]               0\n",
            "        MaxPool2d-14            [-1, 128, 8, 8]               0\n",
            "           Conv2d-15            [-1, 256, 8, 8]         295,168\n",
            "      BatchNorm2d-16            [-1, 256, 8, 8]             512\n",
            "             ReLU-17            [-1, 256, 8, 8]               0\n",
            "           Conv2d-18            [-1, 256, 8, 8]         590,080\n",
            "      BatchNorm2d-19            [-1, 256, 8, 8]             512\n",
            "             ReLU-20            [-1, 256, 8, 8]               0\n",
            "        MaxPool2d-21            [-1, 256, 4, 4]               0\n",
            "           Conv2d-22            [-1, 512, 4, 4]       1,180,160\n",
            "      BatchNorm2d-23            [-1, 512, 4, 4]           1,024\n",
            "             ReLU-24            [-1, 512, 4, 4]               0\n",
            "           Conv2d-25            [-1, 512, 4, 4]       2,359,808\n",
            "      BatchNorm2d-26            [-1, 512, 4, 4]           1,024\n",
            "             ReLU-27            [-1, 512, 4, 4]               0\n",
            "        MaxPool2d-28            [-1, 512, 2, 2]               0\n",
            "           Conv2d-29            [-1, 512, 2, 2]       2,359,808\n",
            "      BatchNorm2d-30            [-1, 512, 2, 2]           1,024\n",
            "             ReLU-31            [-1, 512, 2, 2]               0\n",
            "           Conv2d-32            [-1, 512, 2, 2]       2,359,808\n",
            "      BatchNorm2d-33            [-1, 512, 2, 2]           1,024\n",
            "             ReLU-34            [-1, 512, 2, 2]               0\n",
            "        MaxPool2d-35            [-1, 512, 1, 1]               0\n",
            "           Linear-36                 [-1, 4096]       2,101,248\n",
            "             ReLU-37                 [-1, 4096]               0\n",
            "          Dropout-38                 [-1, 4096]               0\n",
            "           Linear-39                 [-1, 4096]      16,781,312\n",
            "             ReLU-40                 [-1, 4096]               0\n",
            "          Dropout-41                 [-1, 4096]               0\n",
            "           Linear-42                  [-1, 100]         409,700\n",
            "================================================================\n",
            "Total params: 28,703,140\n",
            "Trainable params: 28,703,140\n",
            "Non-trainable params: 0\n",
            "----------------------------------------------------------------\n",
            "Input size (MB): 0.01\n",
            "Forward/backward pass size (MB): 6.15\n",
            "Params size (MB): 109.49\n",
            "Estimated Total Size (MB): 115.65\n",
            "----------------------------------------------------------------\n"
          ]
        }
      ]
    },
    {
      "cell_type": "code",
      "metadata": {
        "id": "ZAylj2-mnsYe"
      },
      "source": [
        ""
      ],
      "execution_count": null,
      "outputs": []
    }
  ]
}